{
 "cells": [
  {
   "cell_type": "markdown",
   "metadata": {},
   "source": [
    "## Report: act_report"
   ]
  },
  {
   "cell_type": "markdown",
   "metadata": {},
   "source": [
    "### Analysis of Tweets from the @DogRates twitter account"
   ]
  },
  {
   "cell_type": "markdown",
   "metadata": {},
   "source": [
    "Dogs; an animal widely loved by people the world over.  \n",
    "@DogRates; a twitter account that invests valuable hours in rating dogs. How do they rate the dogs? by visually analysing photos and/or videos of the dogs, the twitter account is able to subjectively assign a numeric rating to the dogs. The ratings are then stated in a tweet along with a caption which mostly includes attributes of the dog such as; the dogs name, breed, dog size and more.\n",
    "The ratings are done using a unique rating system which is not exactly easy to explain. The ratings come in form of a numerator and denominiator (e.g. 9/10) where the denominator is always 10, and the numerator is any positive number.\n",
    "\n",
    "Out of the collection of tweets on the @DogRates account. I was able to analyse a set of 1723 tweets. The data was able to provide a lot of valueable insights out of which, I present a few findings here.\n",
    "\n",
    "### The analysis\n",
    "In the analysis, I did not set out with a lot of questions about the data. My main focus was really to clean the data and have it ready for analysis in future. However, I had these 3 questions below:\n",
    "\n",
    "1. Which is the most retweeted dog post?\n",
    "2. Which is the most favorited dog post?\n",
    "3. Which is the top rated dog post as judged using the unique rating system?\n",
    "\n",
    "Additionally, using this data, I was able to investigate and find a correlation between the count of retweets and the count of fovorites on the tweets.\n",
    "\n"
   ]
  },
  {
   "cell_type": "markdown",
   "metadata": {},
   "source": [
    "### Findings\n",
    "\n",
    "#### 1. Which is the most retweeted dog post?  \n",
    "The most retweeted dog post is one of a Labrador retreiver, swimming in a pool. \n",
    "\n",
    "#### 2. Which is the most favorited dog post?  \n",
    "Interesingly, the mos favorited dog was found to be the same as the most retweeted dog. The Labrador retriever swimming in a pool  \n",
    "\n",
    "\n",
    "![Labrador Retriever swimming in pool](output/top_retweeted_dog.jpg)  \n",
    ">**Top Retweeted Dog (Also Top Favorited Dog)**  \n",
    "\n",
    "                    \n",
    "#### 3. Which is the top rated dog post as judged using the unique rating system?  \n",
    "So many have called him/her adorable. The top rated dog is a dog named Atticus. Atticus is a Bow Tie dog sporting a bow tie of the American flag. Some might say that Atticus looks ready to launch a campaign for President. And they would not be wrong! Atticus scored the top rating of **1776** points on the unique rating system.  \n",
    "\n",
    "\n",
    "![Atticus for President](output/top_rated_dog.jpg)  \n",
    ">**Top Rated Dog - Atticus for President**"
   ]
  },
  {
   "cell_type": "markdown",
   "metadata": {},
   "source": [
    "Finally, the data was able to give insight into the correlation between retweets count and favorites count on the set of data analysed. The findings here are likely to be observed generally on the twitter platform and may not be peculiar to the dog posts alone. (See graph below)  \n",
    "\n",
    "\n",
    "![Scatter plot retweets vs favorites](output/retweets_vs_favorites.png)  \n",
    ">**Scatter plot showing Retweet Count vs Favorites Count**  \n",
    "\n",
    "\n",
    "From the graph above, we can see a positive correlation between the retweets count and the favorites count."
   ]
  },
  {
   "cell_type": "markdown",
   "metadata": {},
   "source": [
    "This sums up the analysis and consequently, this report.\n",
    "\n",
    "---"
   ]
  }
 ],
 "metadata": {
  "kernelspec": {
   "display_name": "Python 3 (ipykernel)",
   "language": "python",
   "name": "python3"
  },
  "language_info": {
   "codemirror_mode": {
    "name": "ipython",
    "version": 3
   },
   "file_extension": ".py",
   "mimetype": "text/x-python",
   "name": "python",
   "nbconvert_exporter": "python",
   "pygments_lexer": "ipython3",
   "version": "3.9.16"
  }
 },
 "nbformat": 4,
 "nbformat_minor": 2
}
